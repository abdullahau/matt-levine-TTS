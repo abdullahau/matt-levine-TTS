{
 "cells": [
  {
   "cell_type": "markdown",
   "id": "d7cd77f9",
   "metadata": {},
   "source": [
    "## HTML Page to Text File"
   ]
  },
  {
   "cell_type": "code",
   "execution_count": 1,
   "id": "05868a83",
   "metadata": {},
   "outputs": [],
   "source": [
    "from bs4 import BeautifulSoup\n",
    "import re"
   ]
  },
  {
   "cell_type": "code",
   "execution_count": 2,
   "id": "430f2054",
   "metadata": {},
   "outputs": [],
   "source": [
    "def extract_bloomberg_content(html):\n",
    "    soup = BeautifulSoup(html, \"lxml\")\n",
    "    \n",
    "    # STEP 0: Get h1 title\n",
    "    h1 = soup.find(\"h1\")\n",
    "    title = h1.get_text(\" \", strip=True) if h1 else \"Untitled\"\n",
    "\n",
    "    # STEP 1: Extract footnotes\n",
    "    footnotes = {}\n",
    "    footnote_ol = soup.find(\"ol\", class_=re.compile(r\"Footnotes_base\"))\n",
    "    if footnote_ol:\n",
    "        for i, li in enumerate(footnote_ol.find_all(\"li\"), start=1):\n",
    "            # Remove \"View in article\" links only, preserve other text\n",
    "            for a in li.find_all(\"a\"):\n",
    "                if \"View in article\" in a.get_text(strip=True):\n",
    "                    a.decompose()\n",
    "            # Get the remaining full text, including hyperlink text\n",
    "            footnotes[str(i)] = li.get_text(\" \", strip=True)\n",
    "\n",
    "    # STEP 2: Parse content\n",
    "    content_blocks = [f\"{title}\"]\n",
    "    article_container = soup.find(\"main\") or soup.body\n",
    "\n",
    "    for elem in article_container.find_all(recursive=True):\n",
    "        if elem == footnote_ol:\n",
    "            break\n",
    "\n",
    "        # SUBHEADINGS\n",
    "        if elem.name in [\"h2\", \"h3\"] and any(\"Subhead_subhead\" in c for c in elem.get(\"class\", [])):\n",
    "            content_blocks.append(f\"\\n\\n{elem.get_text(strip=True)}:\")\n",
    "\n",
    "        # BLOCKQUOTES\n",
    "        elif elem.name == \"blockquote\" and any(\"Blockquote_blockquote\" in c for c in elem.get(\"class\", [])):\n",
    "            paragraphs = elem.find_all(\"p\")\n",
    "            if paragraphs:\n",
    "                quote_paragraphs = [p.get_text(\" \", strip=True) for p in paragraphs]\n",
    "                quote = \"\\n\\n\".join(quote_paragraphs)\n",
    "            else:\n",
    "                quote = elem.get_text(\" \", strip=True)\n",
    "            quote = re.sub(r\"[*_]\", \"\", quote)\n",
    "            content_blocks.append(f\"start quote\\n{quote}\\nend quote\")\n",
    "\n",
    "        # PARAGRAPHS (skip inside blockquotes to avoid duplication)\n",
    "        elif elem.name == \"p\":\n",
    "            if elem.find_parent(\"blockquote\"):\n",
    "                continue\n",
    "\n",
    "            paragraph_parts = []\n",
    "\n",
    "            for child in elem.children:\n",
    "                if isinstance(child, str):\n",
    "                    paragraph_parts.append(child)\n",
    "                elif child.name == \"a\" and child.get(\"data-component\") == \"footnote-link\":\n",
    "                    href = child.get(\"href\", \"\")\n",
    "                    match = re.search(r\"footnote-(\\d+)\", href)\n",
    "                    if match:\n",
    "                        num = match.group(1)\n",
    "                        fn_text = footnotes.get(num, \"\")\n",
    "                        paragraph_parts.append(f\" [Footnote {num}: {fn_text}] \")\n",
    "                    else:\n",
    "                        paragraph_parts.append(\" \" + child.get_text(strip=True) + \" \")\n",
    "                elif child.name == \"a\":\n",
    "                    link_text = child.get_text(\" \", strip=True)\n",
    "                    paragraph_parts.append(link_text)\n",
    "                else:\n",
    "                    paragraph_parts.append(child.get_text(\" \", strip=True))\n",
    "\n",
    "            clean_para = \"\".join(paragraph_parts).strip()\n",
    "            clean_para = re.sub(r\"[*_]\", \"\", clean_para)\n",
    "            content_blocks.append(clean_para)\n",
    "\n",
    "        # ORDERED LISTS\n",
    "        elif elem.name == \"ol\" and any(\"OrderedList_orderedList\" in c for c in elem.get(\"class\", [])):\n",
    "            list_items = [li.get_text(\" \", strip=True) for li in elem.find_all(\"li\")]\n",
    "            for i, item in enumerate(list_items, start=1):\n",
    "                item = re.sub(r\"[*_]\", \"\", item)\n",
    "                content_blocks.append(f\"{i}. {item}\")\n",
    "\n",
    "    return \"\\n\\n\".join(content_blocks), title"
   ]
  },
  {
   "cell_type": "code",
   "execution_count": null,
   "id": "04dde798",
   "metadata": {},
   "outputs": [],
   "source": [
    "from pathlib import Path\n",
    "\n",
    "directory_path = Path('input/')\n",
    "\n",
    "if directory_path.is_dir():\n",
    "    for entry in directory_path.iterdir():\n",
    "        with open(entry, \"r\", encoding=\"utf-8\") as f:\n",
    "            html = f.read()\n",
    "        article, title = extract_bloomberg_content(html)\n",
    "        article = re.sub(r\"\\s+([.,;:!?])\", r\"\\1\", article)\n",
    "        with open(f\"output/Money Stuff - {title}.txt\", \"w\") as f:\n",
    "            f.write(article)"
   ]
  },
  {
   "cell_type": "code",
   "execution_count": null,
   "id": "e5520279",
   "metadata": {},
   "outputs": [],
   "source": [
    "print(article)"
   ]
  }
 ],
 "metadata": {
  "kernelspec": {
   "display_name": "Developer (3.13.5)",
   "language": "python",
   "name": "python3"
  },
  "language_info": {
   "codemirror_mode": {
    "name": "ipython",
    "version": 3
   },
   "file_extension": ".py",
   "mimetype": "text/x-python",
   "name": "python",
   "nbconvert_exporter": "python",
   "pygments_lexer": "ipython3",
   "version": "3.13.5"
  }
 },
 "nbformat": 4,
 "nbformat_minor": 5
}
