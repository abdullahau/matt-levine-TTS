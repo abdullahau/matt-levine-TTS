{
 "cells": [
  {
   "cell_type": "markdown",
   "id": "d7cd77f9",
   "metadata": {},
   "source": [
    "## HTML Page to Text File with Summary & Context"
   ]
  },
  {
   "cell_type": "code",
   "execution_count": 1,
   "id": "05868a83",
   "metadata": {},
   "outputs": [],
   "source": [
    "import json\n",
    "from google import genai\n",
    "from google.genai.types import HttpOptions\n",
    "import config\n",
    "\n",
    "client = genai.Client(api_key=config.GEMINI_API_KEY,\n",
    "                     http_options=HttpOptions(api_version=\"v1alpha\"))"
   ]
  },
  {
   "cell_type": "code",
   "execution_count": 2,
   "id": "415fc524",
   "metadata": {},
   "outputs": [],
   "source": [
    "def load_json(file_path):\n",
    "    with open(file_path, \"r\", encoding=\"utf-8\") as f:\n",
    "        return json.load(f)\n",
    "\n",
    "def save_json(data, file_path):\n",
    "    with open(file_path, \"w\", encoding=\"utf-8\") as f:\n",
    "        json.dump(data, f, indent=4, ensure_ascii=False)\n",
    "        \n",
    "def create_summary_prompt(section_content):\n",
    "    return f\"\"\"\n",
    "You are a helpful summarizer and analyst.\n",
    "\n",
    "Given the following section of a Bloomberg newsletter, do the following:\n",
    "1. Provide a concise summary in 2-3 sentences.\n",
    "2. Identify the main topics or themes discussed.\n",
    "3. Preserve any important nuance, tone, or humor. \n",
    "4. Describe the broader context, article-level insight and background.\n",
    "5. Mention any notable financial terms or references.\n",
    "6. Write this all into a passage in plain simple text without markdown formatting so it can be read directly by a text-to-speech application\n",
    "7. Avoid repeating quotes — just explain what's being said in simpler terms.\n",
    "\n",
    "Here is the section:\n",
    "---\n",
    "{section_content}\n",
    "---\n",
    "\"\"\""
   ]
  },
  {
   "cell_type": "code",
   "execution_count": 3,
   "id": "e89b6363",
   "metadata": {},
   "outputs": [],
   "source": [
    "def summarize_article_sections(sections, main_title, gemini_client, stop_phrase=None):\n",
    "    for section in sections:\n",
    "        section_title = section.get(\"title\", \"\").strip()\n",
    "\n",
    "        if stop_phrase and section_title.lower() == stop_phrase.lower():\n",
    "            break\n",
    "\n",
    "        if section_title == main_title:\n",
    "            continue\n",
    "\n",
    "        content_text = \"\\n\\n\".join(section.get(\"content\", []))\n",
    "        \n",
    "        if not content_text:\n",
    "            continue\n",
    "\n",
    "        prompt = create_summary_prompt(content_text)\n",
    "\n",
    "        try:\n",
    "            response = gemini_client.models.generate_content(\n",
    "                model=\"gemini-2.5-flash\", \n",
    "                contents=prompt\n",
    "            )\n",
    "            section[\"summary\"] = response.text.strip()\n",
    "        except Exception as e:\n",
    "            print(f\"  -> ❌ Gemini API failed for section '{section_title}': {e}\")\n",
    "            section[\"summary\"] = \"[Summary unavailable due to an API error]\"\n",
    "\n",
    "    return sections"
   ]
  },
  {
   "cell_type": "code",
   "execution_count": 4,
   "id": "77bf2a73",
   "metadata": {},
   "outputs": [],
   "source": [
    "def main(input_path, output_path, stop_at_title=\"Things happen\"):\n",
    "    article_data = load_json(input_path)\n",
    "    if not article_data:\n",
    "        return\n",
    "    \n",
    "    sections = article_data.get(\"sections\", [])\n",
    "    main_title = article_data.get(\"title\", \"\")\n",
    "\n",
    "    summarized_sections = summarize_article_sections(\n",
    "        sections=sections,\n",
    "        main_title=main_title,\n",
    "        gemini_client=client,\n",
    "        stop_phrase=stop_at_title\n",
    "    )\n",
    "\n",
    "    article_data[\"sections\"] = summarized_sections\n",
    "\n",
    "    save_json(article_data, output_path)"
   ]
  },
  {
   "cell_type": "code",
   "execution_count": 5,
   "id": "0e14cc27",
   "metadata": {},
   "outputs": [],
   "source": [
    "INPUT_JSON_PATH = \"processed-json/Money Stuff - A Drug-Trial Stock Sale.json\"\n",
    "OUTPUT_JSON_PATH = \"Money Stuff - A Drug-Trial Stock Sale.json.json\"\n",
    "\n",
    "STOP_PHRASE = \"Things happen\" \n",
    "\n",
    "main(input_path=INPUT_JSON_PATH, output_path=OUTPUT_JSON_PATH, stop_at_title=STOP_PHRASE)"
   ]
  }
 ],
 "metadata": {
  "kernelspec": {
   "display_name": "Developer (3.13.5)",
   "language": "python",
   "name": "python3"
  },
  "language_info": {
   "codemirror_mode": {
    "name": "ipython",
    "version": 3
   },
   "file_extension": ".py",
   "mimetype": "text/x-python",
   "name": "python",
   "nbconvert_exporter": "python",
   "pygments_lexer": "ipython3",
   "version": "3.13.5"
  }
 },
 "nbformat": 4,
 "nbformat_minor": 5
}
