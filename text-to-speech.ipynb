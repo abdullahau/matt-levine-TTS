{
 "cells": [
  {
   "cell_type": "markdown",
   "id": "74a3aed5",
   "metadata": {},
   "source": [
    "## Newsletter Text-To-Speech - Kokoro"
   ]
  },
  {
   "cell_type": "markdown",
   "id": "ef74f767",
   "metadata": {},
   "source": [
    "### Import Modules"
   ]
  },
  {
   "cell_type": "code",
   "execution_count": null,
   "id": "a85b6482",
   "metadata": {},
   "outputs": [],
   "source": [
    "# 🧠 2. Import modules\n",
    "import soundfile as sf\n",
    "from IPython.display import display, Audio\n",
    "import tempfile, shutil, subprocess, os\n",
    "import numpy as np\n",
    "from pathlib import Path\n",
    "os.environ['PYTORCH_ENABLE_MPS_FALLBACK'] = '1'\n",
    "from kokoro import KPipeline\n",
    "import torch\n",
    "\n",
    "from huggingface_hub import login\n",
    "import config\n",
    "if config.ACCESS_TOKEN:\n",
    "    login(token=config.ACCESS_TOKEN)"
   ]
  },
  {
   "cell_type": "markdown",
   "id": "304043c0",
   "metadata": {},
   "source": [
    "### Helper Functions"
   ]
  },
  {
   "cell_type": "code",
   "execution_count": null,
   "id": "ffbd4c1b",
   "metadata": {},
   "outputs": [],
   "source": [
    "# 🎙️ 3. Helper functions\n",
    "def combine_audio_files(file_list, output_path):\n",
    "    \"\"\"Combine WAV files by re-encoding each and concatenating via numpy + soundfile.\"\"\"\n",
    "    combined = []\n",
    "    for file in file_list:\n",
    "        data, sr = sf.read(file)\n",
    "        if sr != 24000:\n",
    "            raise ValueError(f\"Unexpected sample rate: {sr} in {file}\")\n",
    "        combined.append(data)\n",
    "\n",
    "    all_audio = np.concatenate(combined)\n",
    "    sf.write(output_path, all_audio, 24000)\n",
    "\n",
    "def generate_speech(text, title=\"output\", voice=\"af_heart\", split_pattern=r\"\\n+\", speed=1.0, lang_code=\"a\"):\n",
    "    \"\"\"Generate complete audio for given text using Kokoro.\"\"\"\n",
    "    # 🇺🇸 'a' => American English, 🇬🇧 'b' => British English\n",
    "    pipeline = KPipeline(lang_code=lang_code, repo_id=\"hexgrad/Kokoro-82M\")\n",
    "    audio_parts = []\n",
    "\n",
    "    with tempfile.TemporaryDirectory() as temp_dir:\n",
    "        temp_dir_path = Path(temp_dir)\n",
    "\n",
    "        generator = pipeline(\n",
    "            text, voice=voice, speed=speed, split_pattern=split_pattern\n",
    "        )\n",
    "\n",
    "        for i, (gs, ps, audio) in enumerate(generator):\n",
    "            if audio is None or len(audio) == 0:\n",
    "                continue\n",
    "            part_path = temp_dir_path / f\"part_{i}.wav\"\n",
    "            sf.write(str(part_path), audio, 24000)\n",
    "            audio_parts.append(str(part_path))\n",
    "\n",
    "        if not audio_parts:\n",
    "            return None\n",
    "\n",
    "        final_output = f\"{title}.wav\"\n",
    "        if len(audio_parts) == 1:\n",
    "            shutil.copy2(audio_parts[0], final_output)\n",
    "        else:\n",
    "            combine_audio_files(audio_parts, final_output)\n",
    "\n",
    "        return final_output"
   ]
  },
  {
   "cell_type": "markdown",
   "id": "6d2a1592",
   "metadata": {},
   "source": [
    "### Test Run"
   ]
  },
  {
   "cell_type": "code",
   "execution_count": null,
   "id": "e610795e",
   "metadata": {},
   "outputs": [],
   "source": [
    "title = \"Test\"\n",
    "text = \"Can you run this test please? I say, run it!\""
   ]
  },
  {
   "cell_type": "code",
   "execution_count": null,
   "id": "8f438d1a",
   "metadata": {},
   "outputs": [],
   "source": [
    "# 🌀 Generate the final audio\n",
    "final_audio_path = generate_speech(text, title)\n",
    "\n",
    "# ▶️ Play and download\n",
    "if final_audio_path:\n",
    "    display(Audio(final_audio_path, autoplay=True))\n",
    "else:\n",
    "    print(\"No audio generated.\")"
   ]
  },
  {
   "cell_type": "markdown",
   "id": "7f9fc9a5",
   "metadata": {},
   "source": [
    "### Convert `.txt` Articles to Audio"
   ]
  },
  {
   "cell_type": "code",
   "execution_count": null,
   "id": "e089ab8a",
   "metadata": {},
   "outputs": [],
   "source": [
    "directory_path = Path('output/')\n",
    "\n",
    "if directory_path.is_dir():\n",
    "    for entry in directory_path.iterdir():\n",
    "        with open(entry, \"r\", encoding=\"utf-8\") as f:\n",
    "            text = f.read()\n",
    "        final_audio_path = generate_speech(text, title=entry.stem)"
   ]
  }
 ],
 "metadata": {
  "kernelspec": {
   "display_name": "Developer (3.13.5)",
   "language": "python",
   "name": "python3"
  },
  "language_info": {
   "codemirror_mode": {
    "name": "ipython",
    "version": 3
   },
   "file_extension": ".py",
   "mimetype": "text/x-python",
   "name": "python",
   "nbconvert_exporter": "python",
   "pygments_lexer": "ipython3",
   "version": "3.13.5"
  }
 },
 "nbformat": 4,
 "nbformat_minor": 5
}
